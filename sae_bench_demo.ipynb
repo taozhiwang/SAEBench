{
 "cells": [
  {
   "cell_type": "code",
   "execution_count": 2,
   "metadata": {},
   "outputs": [],
   "source": [
    "%load_ext autoreload\n",
    "%autoreload 2"
   ]
  },
  {
   "cell_type": "code",
   "execution_count": 3,
   "metadata": {},
   "outputs": [
    {
     "name": "stdout",
     "output_type": "stream",
     "text": [
      "Using device: cuda\n"
     ]
    }
   ],
   "source": [
    "import os\n",
    "\n",
    "import torch\n",
    "import os\n",
    "os.environ[\"CUDA_VISIBLE_DEVICES\"] = \"9\"\n",
    "\n",
    "import sae_bench.custom_saes.custom_sae_config as custom_sae_config\n",
    "import sae_bench.custom_saes.relu_sae as relu_sae\n",
    "import sae_bench.custom_saes.run_all_evals_custom_saes as run_all_evals_custom_saes\n",
    "import sae_bench.evals.core.main as core\n",
    "import sae_bench.evals.sparse_probing.main as sparse_probing\n",
    "import sae_bench.sae_bench_utils.general_utils as general_utils\n",
    "from sae_bench.sae_bench_utils.sae_selection_utils import get_saes_from_regex\n",
    "\n",
    "RANDOM_SEED = 42\n",
    "\n",
    "output_folders = {\n",
    "    \"absorption\": \"eval_results/absorption\",\n",
    "    \"autointerp\": \"eval_results/autointerp\",\n",
    "    \"core\": \"eval_results/core\",\n",
    "    \"scr\": \"eval_results/scr\",\n",
    "    \"tpp\": \"eval_results/tpp\",\n",
    "    \"sparse_probing\": \"eval_results/sparse_probing\",\n",
    "    \"unlearning\": \"eval_results/unlearning\",\n",
    "}\n",
    "\n",
    "# Note: Unlearning is not recommended for models with < 2B parameters and we recommend an instruct tuned model\n",
    "# Unlearning will also require requesting permission for the WMDP dataset (see unlearning/README.md)\n",
    "# Absorption not recommended for models < 2B parameters\n",
    "# asyncio doesn't like notebooks, so autointerp must be ran using a python script\n",
    "\n",
    "# Select your eval types here.\n",
    "eval_types = [\n",
    "    # \"absorption\",\n",
    "    # \"autointerp\",\n",
    "    \"core\",\n",
    "    # \"scr\",\n",
    "    # \"tpp\",\n",
    "    \"ravel\",\n",
    "    # \"sparse_probing\",\n",
    "    # \"unlearning\",\n",
    "]\n",
    "\n",
    "if \"autointerp\" in eval_types:\n",
    "    raise ValueError(\"autointerp must be ran using a python script\")\n",
    "\n",
    "device = general_utils.setup_environment()\n",
    "\n",
    "model_name = \"pythia-160m\"\n",
    "llm_batch_size = 512\n",
    "torch_dtype = torch.float32\n",
    "\n",
    "# Currently all evals take str_dtype instead of torch_dtype. We did this for serialization purposes, but it was probably a mistake.\n",
    "# For now we will just use the str_dtype. TODO: Fix this\n",
    "str_dtype = torch_dtype.__str__().split(\".\")[-1]\n",
    "\n",
    "\n",
    "# If evaluating multiple SAEs on the same layer, set save_activations to True\n",
    "# This will require at least 100GB of disk space\n",
    "save_activations = False"
   ]
  },
  {
   "cell_type": "markdown",
   "metadata": {},
   "source": [
    "This cell loads your custom SAEs. If you just want to use existing SAE Lens SAEs, comment it out.\n"
   ]
  },
  {
   "cell_type": "code",
   "execution_count": 4,
   "metadata": {},
   "outputs": [
    {
     "name": "stdout",
     "output_type": "stream",
     "text": [
      "Loading SAE 5.1-grid_l1-1_newinit-False_seed-1_gated_pythia-160m_8 from /data/zixuan/phd/sae/results/5.1-grid_l1-1_newinit-False_seed-1_gated/final_512000000\n"
     ]
    },
    {
     "name": "stderr",
     "output_type": "stream",
     "text": [
      "/data/zixuan/miniconda3/envs/sae/lib/python3.10/site-packages/torch/cuda/__init__.py:789: UserWarning: Can't initialize NVML\n",
      "  warnings.warn(\"Can't initialize NVML\")\n"
     ]
    },
    {
     "name": "stdout",
     "output_type": "stream",
     "text": [
      "Loading SAE 5.1-grid_l1-1_newinit-True_seed-1_gated_pythia-160m_8 from /data/zixuan/phd/sae/results/5.1-grid_l1-1_newinit-True_seed-1_gated/final_512000000\n"
     ]
    },
    {
     "name": "stderr",
     "output_type": "stream",
     "text": [
      "/data/zixuan/phd/sae/SAELens/sae_lens/sae.py:152: UserWarning: \n",
      "This SAE has non-empty model_from_pretrained_kwargs. \n",
      "For optimal performance, load the model like so:\n",
      "model = HookedSAETransformer.from_pretrained_no_processing(..., **cfg.model_from_pretrained_kwargs)\n",
      "  warnings.warn(\n"
     ]
    }
   ],
   "source": [
    "# repo_id = \"canrager/lm_sae\"\n",
    "# baseline_filename = (\n",
    "#     \"pythia70m_sweep_standard_ctx128_0712/resid_post_layer_4/trainer_8/ae.pt\"\n",
    "# )\n",
    "# hook_layer = 4\n",
    "# hook_name = f\"blocks.{hook_layer}.hook_resid_post\"\n",
    "\n",
    "# sae = relu_sae.load_dictionary_learning_relu_sae(\n",
    "#     repo_id, baseline_filename, model_name, device, torch_dtype, layer=hook_layer\n",
    "# )\n",
    "\n",
    "# print(f\"sae dtype: {sae.dtype}, device: {sae.device}\")\n",
    "\n",
    "# d_sae, d_in = sae.W_dec.data.shape\n",
    "\n",
    "# assert d_sae >= d_in\n",
    "\n",
    "# print(f\"d_in: {d_in}, d_sae: {d_sae}\")\n",
    "\n",
    "from sae_lens import SAE\n",
    "llm_dtype = \"float32\"                       # must match your SAE cfg.dtype\n",
    "llm_batch_size = 512\n",
    "\n",
    "def load_sae(\n",
    "    sae_dir,\n",
    "):\n",
    "    sae = SAE.load_from_pretrained(sae_dir, device=device, dtype=llm_dtype)\n",
    "\n",
    "    # 3) fill in any missing cfg fields SAE Bench expects\n",
    "    sae.cfg.dtype            = llm_dtype\n",
    "    sae.cfg.architecture     = \"standard\"      # match how you trained it\n",
    "    sae.cfg.training_tokens  = 512_000_000     # total tokens you trained on\n",
    "    sae.cfg.hook_layer = 8\n",
    "    sae.cfg.hook_name  = f\"blocks.{sae.cfg.hook_layer}.hook_mlp_out\"\n",
    "    \n",
    "    return sae\n",
    "\n",
    "sae_set = {\n",
    "    \"5.1-grid_l1-1_newinit-False_seed-1_gated_pythia-160m_8\": {\n",
    "        \"sae_dir\": \"/data/zixuan/phd/sae/results/5.1-grid_l1-1_newinit-False_seed-1_gated/final_512000000\",\n",
    "        \"custom_id\": \"5.1-grid_l1-1_newinit-False_seed-1_gated_pythia-160m_8\",\n",
    "    },\n",
    "    \"5.1-grid_l1-1_newinit-True_seed-1_gated_pythia-160m_8\": {\n",
    "        \"sae_dir\": \"/data/zixuan/phd/sae/results/5.1-grid_l1-1_newinit-True_seed-1_gated/final_512000000\",\n",
    "        \"custom_id\": \"5.1-grid_l1-1_newinit-True_seed-1_gated_pythia-160m_8\",\n",
    "    },\n",
    "}\n",
    "\n",
    "selected_saes = []\n",
    "for key in sae_set:\n",
    "    sae_dir = sae_set[key][\"sae_dir\"]\n",
    "    custom_id = sae_set[key][\"custom_id\"]\n",
    "\n",
    "    # 1) load the SAE\n",
    "    print(f\"Loading SAE {key} from {sae_dir}\")\n",
    "    sae = load_sae(sae_dir)\n",
    "\n",
    "    selected_saes.append((custom_id, sae))\n"
   ]
  },
  {
   "cell_type": "markdown",
   "metadata": {},
   "source": [
    "In our sae object we need to have a CustomSAEConfig. This contains some information which is used by the evals (hook_name, hook_layer, model_name, d_sae, etc). In addition, it contains information that is used by our plotting functions, like number of training tokens and architecture. For example, we should have the sae.cfg.architecture defined if we want to plot multiple SAE architectures.\n",
    "\n",
    "Note: Everything in this cell, except `architecture` and `training_tokens`, is done in the `BaseSAE` class that the `ReluSAE` inherits from. Because of this, we recommend that you modify an existing SAE class.\n"
   ]
  },
  {
   "cell_type": "code",
   "execution_count": 5,
   "metadata": {},
   "outputs": [],
   "source": [
    "# sae.cfg = custom_sae_config.CustomSAEConfig(\n",
    "#     model_name, d_in=d_in, d_sae=d_sae, hook_name=hook_name, hook_layer=hook_layer\n",
    "# )\n",
    "\n",
    "# # Core evals require us to specify cfg.dtype, which must be a string for easy serialization. TODO: Refactor to use torch.dtype\n",
    "# sae.cfg.dtype = str_dtype\n",
    "\n",
    "\n",
    "# The following contains our current defined SAE types and the shapes to plot for each. Add your custom SAE as new_sae_key\n",
    "new_sae_key = \"vanilla\"\n",
    "trainer_markers = {\n",
    "    \"standard\": \"o\",\n",
    "    \"jumprelu\": \"X\",\n",
    "    \"topk\": \"^\",\n",
    "    \"p_anneal\": \"*\",\n",
    "    \"gated\": \"d\",\n",
    "    new_sae_key: \"s\",  # New SAE\n",
    "}\n",
    "\n",
    "trainer_colors = {\n",
    "    \"standard\": \"blue\",\n",
    "    \"jumprelu\": \"orange\",\n",
    "    \"topk\": \"green\",\n",
    "    \"p_anneal\": \"red\",\n",
    "    \"gated\": \"purple\",\n",
    "    new_sae_key: \"black\",  # New SAE\n",
    "}\n",
    "\n",
    "# sae.cfg.architecture = new_sae_key\n",
    "# sae.cfg.training_tokens = 200_000_000"
   ]
  },
  {
   "cell_type": "markdown",
   "metadata": {},
   "source": [
    "`selected_saes` is a list of tuples of (unique_sae_id, sae object) OR (sae lens release, sae lens id). If it is a list of custom sae objects, then memory size will increase with the length of the list. This is especially important if the SAEs are large. If memory is a concern, I recommend calling the `run_eval()` function multiple times with lists of length 1, each list containing a new sae object.\n"
   ]
  },
  {
   "cell_type": "code",
   "execution_count": 6,
   "metadata": {},
   "outputs": [],
   "source": [
    "# # Note: the custom_sae_id should be unique, as it is used for the intermediate results and final results file names\n",
    "\n",
    "# unique_custom_sae_id = baseline_filename.replace(\"/\", \"_\").replace(\".\", \"_\")\n",
    "# print(f\"sae_id: {unique_custom_sae_id}\")\n",
    "\n",
    "# # list of tuple of (sae_id, sae object)\n",
    "# custom_saes = [(unique_custom_sae_id, sae)]"
   ]
  },
  {
   "cell_type": "markdown",
   "metadata": {},
   "source": [
    "Select your baseline SAEs here. Refer to `sae_regex_selection.ipynb` for more regex patterns. We are going to get a topk SAE from the same layer.\n"
   ]
  },
  {
   "cell_type": "code",
   "execution_count": 7,
   "metadata": {},
   "outputs": [],
   "source": [
    "# sae_regex_pattern = r\"(sae_bench_pythia70m_sweep_topk_ctx128_0730).*\"\n",
    "# sae_block_pattern = r\".*blocks\\.([4])\\.hook_resid_post__trainer_(8)$\"\n",
    "\n",
    "# baseline_saes = get_saes_from_regex(sae_regex_pattern, sae_block_pattern)\n",
    "# print(f\"baseline_saes: {baseline_saes}\")\n",
    "# baseline_sae_id = f\"{baseline_saes[0][0]}_{baseline_saes[0][1]}\".replace(\".\", \"_\")\n",
    "# print(f\"baseline_sae_id: {baseline_sae_id}\")\n",
    "\n",
    "# selected_saes = custom_saes + baseline_saes"
   ]
  },
  {
   "cell_type": "markdown",
   "metadata": {},
   "source": [
    "Run time for the next 2 functions is approximately 2 minutes on an RTX 3090.\n"
   ]
  },
  {
   "cell_type": "code",
   "execution_count": 9,
   "metadata": {},
   "outputs": [
    {
     "name": "stderr",
     "output_type": "stream",
     "text": [
      "Running SAE evaluation on all selected SAEs:   0%|          | 0/2 [00:00<?, ?it/s]"
     ]
    },
    {
     "name": "stdout",
     "output_type": "stream",
     "text": [
      "Decoder weights are not normalized. Max diff: 4.734266757965088\n",
      "Loaded pretrained model pythia-160m into HookedTransformer\n"
     ]
    },
    {
     "name": "stderr",
     "output_type": "stream",
     "text": [
      "/data/zixuan/phd/sae/SAELens/sae_lens/training/activations_store.py:301: UserWarning: Dataset is not tokenized. Pre-tokenizing will improve performance and allows for more control over special tokens. See https://jbloomaus.github.io/SAELens/training_saes/#pretokenizing-datasets for more info.\n",
      "  warnings.warn(\n",
      "Reconstruction Batches: 100%|██████████| 200/200 [01:09<00:00,  2.88it/s]\n",
      "Sparsity and Variance Batches: 100%|██████████| 200/200 [00:22<00:00,  8.95it/s]\n",
      "Failed to evaluate SAE custom_sae from 5.1-grid_l1-1_newinit-False_seed-1_gated_pythia-160m_8 with context length 128 on dataset Skylion007/openwebtext: 'SAE' object has no attribute 'b_enc'\n",
      "Running SAE evaluation on all selected SAEs:  50%|█████     | 1/2 [01:34<01:34, 94.22s/it]"
     ]
    },
    {
     "name": "stdout",
     "output_type": "stream",
     "text": [
      "Decoder weights are not normalized. Max diff: 1.474214792251587\n"
     ]
    },
    {
     "name": "stderr",
     "output_type": "stream",
     "text": [
      "Reconstruction Batches: 100%|██████████| 200/200 [01:10<00:00,  2.82it/s]\n",
      "Sparsity and Variance Batches: 100%|██████████| 200/200 [00:22<00:00,  8.99it/s]\n",
      "Failed to evaluate SAE custom_sae from 5.1-grid_l1-1_newinit-True_seed-1_gated_pythia-160m_8 with context length 128 on dataset Skylion007/openwebtext: 'SAE' object has no attribute 'b_enc'\n",
      "Running SAE evaluation on all selected SAEs: 100%|██████████| 2/2 [03:08<00:00, 94.29s/it]\n"
     ]
    }
   ],
   "source": [
    "# Note: We typically run with n_eval_sparsity_variance_batches=2000, but I have reduced it here for a faster run\n",
    "\n",
    "_ = core.multiple_evals(\n",
    "    selected_saes=selected_saes,\n",
    "    n_eval_reconstruction_batches=200,\n",
    "    n_eval_sparsity_variance_batches=200,\n",
    "    eval_batch_size_prompts=32,\n",
    "    compute_featurewise_density_statistics=True,\n",
    "    compute_featurewise_weight_based_metrics=True,\n",
    "    exclude_special_tokens_from_reconstruction=True,\n",
    "    dataset=\"Skylion007/openwebtext\",\n",
    "    context_size=128,\n",
    "    output_folder=\"eval_results/core\",\n",
    "    verbose=True,\n",
    "    dtype=str_dtype,\n",
    ")"
   ]
  },
  {
   "cell_type": "code",
   "execution_count": null,
   "metadata": {},
   "outputs": [],
   "source": [
    "import sae_bench.evals.sparse_probing.main as sparse_probing\n",
    "import sae_bench.evals.ravel.main as ravel\n",
    "import sae_bench.evals.absorption.main as absorption\n",
    "import sae_bench.evals.autointerp.main as autointerp\n",
    "import sae_bench.evals.scr_and_tpp.main as scr_and_tpp\n",
    "import sae_bench.evals.unlearning.main as unlearning\n",
    "\n",
    "ravel.multiple_evals(\n",
    "    selected_saes=selected_saes,\n",
    "    n_eval_reconstruction_batches=200,\n",
    "    n_eval_sparsity_variance_batches=200,\n",
    "    eval_batch_size_prompts=32,\n",
    "    compute_featurewise_density_statistics=True,\n",
    "    compute_featurewise_weight_based_metrics=True,\n",
    ")"
   ]
  },
  {
   "cell_type": "code",
   "execution_count": 14,
   "metadata": {},
   "outputs": [
    {
     "name": "stdout",
     "output_type": "stream",
     "text": [
      "Loaded pretrained model pythia-160m into HookedTransformer\n"
     ]
    },
    {
     "name": "stderr",
     "output_type": "stream",
     "text": [
      "Running SAE evaluation on all selected SAEs: 100%|██████████| 2/2 [00:00<00:00, 950.44it/s]"
     ]
    },
    {
     "name": "stdout",
     "output_type": "stream",
     "text": [
      "Decoder weights are not normalized. Max diff: 4.734266757965088\n",
      "Skipping 5.1-grid_l1-1_newinit-False_seed-1_gated_pythia-160m_8_custom_sae as results already exist\n",
      "Decoder weights are not normalized. Max diff: 1.474214792251587\n",
      "Skipping 5.1-grid_l1-1_newinit-True_seed-1_gated_pythia-160m_8_custom_sae as results already exist\n"
     ]
    },
    {
     "name": "stderr",
     "output_type": "stream",
     "text": [
      "\n"
     ]
    }
   ],
   "source": [
    "# We do a subset of the sparse probing datasets here for shorter runtime\n",
    "dataset_names = [\"LabHC/bias_in_bios_class_set1\"]\n",
    "# Set CUDA_VISIBLE_DEVICES to use GPU 9\n",
    "\n",
    "os.environ[\"CUDA_VISIBLE_DEVICES\"] = \"8\"\n",
    "\n",
    "# TODO: Add a verbose flag\n",
    "_ = sparse_probing.run_eval(\n",
    "    sparse_probing.SparseProbingEvalConfig(\n",
    "        model_name=model_name,\n",
    "        random_seed=RANDOM_SEED,\n",
    "        llm_batch_size=llm_batch_size,\n",
    "        llm_dtype=str_dtype,\n",
    "        dataset_names=dataset_names,\n",
    "    ),\n",
    "    selected_saes,\n",
    "    device,\n",
    "    \"eval_results/sparse_probing\",\n",
    "    force_rerun=False,\n",
    "    clean_up_activations=True,\n",
    "    save_activations=save_activations,\n",
    ")"
   ]
  },
  {
   "cell_type": "code",
   "execution_count": 15,
   "metadata": {},
   "outputs": [],
   "source": [
    "import json\n",
    "\n",
    "import torch\n",
    "\n",
    "import sae_bench.sae_bench_utils.graphing_utils as graphing_utils\n"
   ]
  },
  {
   "cell_type": "code",
   "execution_count": 16,
   "metadata": {},
   "outputs": [],
   "source": [
    "image_path = \"./images\"\n",
    "\n",
    "if not os.path.exists(image_path):\n",
    "    os.makedirs(image_path)"
   ]
  },
  {
   "cell_type": "code",
   "execution_count": 17,
   "metadata": {},
   "outputs": [
    {
     "name": "stdout",
     "output_type": "stream",
     "text": [
      "eval_filenames: ['./eval_results/sparse_probing/standard_l1-2.0_newinit-False_custom_sae_eval_results.json', './eval_results/sparse_probing/standard_l1-2.0_newinit-True_custom_sae_eval_results.json', './eval_results/sparse_probing/5.1-grid_l1-1_newinit-False_seed-1_gated_pythia-160m_8_custom_sae_eval_results.json', './eval_results/sparse_probing/5.1-grid_l1-1_newinit-True_seed-1_gated_pythia-160m_8_custom_sae_eval_results.json']\n",
      "core_filenames: ['./eval_results/core/standard_l1-2.0_newinit-False_custom_sae_eval_results.json', './eval_results/core/standard_l1-2.0_newinit-True_custom_sae_eval_results.json']\n"
     ]
    }
   ],
   "source": [
    "results_folders = [\"./eval_results\"]\n",
    "\n",
    "eval_type = \"sparse_probing\"\n",
    "\n",
    "eval_folders = []\n",
    "core_folders = []\n",
    "for results_folder in results_folders:\n",
    "    eval_folders.append(f\"{results_folder}/{eval_type}\")\n",
    "    core_folders.append(f\"{results_folder}/core\")\n",
    "\n",
    "eval_filenames = graphing_utils.find_eval_results_files(eval_folders)\n",
    "core_filenames = graphing_utils.find_eval_results_files(core_folders)\n",
    "\n",
    "print(f\"eval_filenames: {eval_filenames}\")\n",
    "print(f\"core_filenames: {core_filenames}\")"
   ]
  },
  {
   "cell_type": "markdown",
   "metadata": {},
   "source": [
    "Here we can view the raw results, and we see that both SAEs significantly outperform the residual stream baseline.\n"
   ]
  },
  {
   "cell_type": "code",
   "execution_count": 18,
   "metadata": {},
   "outputs": [
    {
     "name": "stdout",
     "output_type": "stream",
     "text": [
      "{'standard_l1-2.0_newinit-False_custom_sae': {'sae_test_accuracy': 0.9310000538825989, 'sae_top_1_test_accuracy': 0.6924, 'sae_top_2_test_accuracy': 0.7205999999999999, 'sae_top_5_test_accuracy': 0.7836000000000001, 'sae_top_10_test_accuracy': None, 'sae_top_20_test_accuracy': None, 'sae_top_50_test_accuracy': None, 'sae_top_100_test_accuracy': None, 'eval_config': {'random_seed': 42, 'dataset_names': ['LabHC/bias_in_bios_class_set1'], 'probe_train_set_size': 4000, 'probe_test_set_size': 1000, 'context_length': 128, 'sae_batch_size': 125, 'llm_batch_size': 512, 'llm_dtype': 'float32', 'model_name': 'pythia-160m', 'k_values': [1, 2, 5], 'lower_vram_usage': False}, 'sae_class': 'standard', 'd_sae': '32k', 'train_tokens': 1e-06}, 'standard_l1-2.0_newinit-True_custom_sae': {'sae_test_accuracy': 0.9354000449180603, 'sae_top_1_test_accuracy': 0.7070000000000001, 'sae_top_2_test_accuracy': 0.7592000000000001, 'sae_top_5_test_accuracy': 0.8203999999999999, 'sae_top_10_test_accuracy': None, 'sae_top_20_test_accuracy': None, 'sae_top_50_test_accuracy': None, 'sae_top_100_test_accuracy': None, 'eval_config': {'random_seed': 42, 'dataset_names': ['LabHC/bias_in_bios_class_set1'], 'probe_train_set_size': 4000, 'probe_test_set_size': 1000, 'context_length': 128, 'sae_batch_size': 125, 'llm_batch_size': 512, 'llm_dtype': 'float32', 'model_name': 'pythia-160m', 'k_values': [1, 2, 5], 'lower_vram_usage': False}, 'sae_class': 'standard', 'd_sae': '32k', 'train_tokens': 1e-06}, '5.1-grid_l1-1_newinit-False_seed-1_gated_pythia-160m_8_custom_sae': {'sae_test_accuracy': 0.9466000556945801, 'sae_top_1_test_accuracy': 0.6052, 'sae_top_2_test_accuracy': 0.7264, 'sae_top_5_test_accuracy': 0.7846, 'sae_top_10_test_accuracy': None, 'sae_top_20_test_accuracy': None, 'sae_top_50_test_accuracy': None, 'sae_top_100_test_accuracy': None, 'eval_config': {'random_seed': 42, 'dataset_names': ['LabHC/bias_in_bios_class_set1'], 'probe_train_set_size': 4000, 'probe_test_set_size': 1000, 'context_length': 128, 'sae_batch_size': 125, 'llm_batch_size': 512, 'llm_dtype': 'float32', 'model_name': 'pythia-160m', 'k_values': [1, 2, 5], 'lower_vram_usage': False}, 'sae_class': 'standard', 'd_sae': '32k', 'train_tokens': 1e-06}, '5.1-grid_l1-1_newinit-True_seed-1_gated_pythia-160m_8_custom_sae': {'sae_test_accuracy': 0.9482000350952149, 'sae_top_1_test_accuracy': 0.5801999999999999, 'sae_top_2_test_accuracy': 0.6976000000000001, 'sae_top_5_test_accuracy': 0.7622, 'sae_top_10_test_accuracy': None, 'sae_top_20_test_accuracy': None, 'sae_top_50_test_accuracy': None, 'sae_top_100_test_accuracy': None, 'eval_config': {'random_seed': 42, 'dataset_names': ['LabHC/bias_in_bios_class_set1'], 'probe_train_set_size': 4000, 'probe_test_set_size': 1000, 'context_length': 128, 'sae_batch_size': 125, 'llm_batch_size': 512, 'llm_dtype': 'float32', 'model_name': 'pythia-160m', 'k_values': [1, 2, 5], 'lower_vram_usage': False}, 'sae_class': 'standard', 'd_sae': '32k', 'train_tokens': 1e-06}}\n",
      "{'standard_l1-2.0_newinit-False_custom_sae': {'kl_div_score': -1.0, 'kl_div_with_ablation': -1.0, 'kl_div_with_sae': -1.0, 'ce_loss_score': 0.7304706167108341, 'ce_loss_with_ablation': 3.9228384494781494, 'ce_loss_with_sae': 3.698343515396118, 'ce_loss_without_sae': 3.615509271621704, 'explained_variance': 0.875338077545166, 'explained_variance_legacy': 0.7775207161903381, 'mse': 0.006843720097094774, 'cossim': 0.9149325489997864, 'l2_norm_in': 14.381717681884766, 'l2_norm_out': 12.608492851257324, 'l2_ratio': 0.8618593215942383, 'relative_reconstruction_bias': 0.9555032253265381, 'l0': 97.38790130615234, 'l1': 20.598793029785156, 'total_tokens_eval_reconstruction': 819200, 'total_tokens_eval_sparsity_variance': 819200, 'freq_over_1_percent': 0.0636470764875412, 'freq_over_10_percent': 0.0049913194961845875, 'normalized_freq_over_1_percent': 0.8347970843315125, 'normalized_freq_over_10_percent': 0.32327935099601746, 'average_max_encoder_cosine_sim': 0.5779102444648743, 'average_max_decoder_cosine_sim': 0.2649724781513214, 'frac_alive': 0.4253782331943512, 'eval_config': {'model_name': 'pythia-160m', 'llm_dtype': 'float32', 'batch_size_prompts': 32, 'n_eval_reconstruction_batches': 200, 'n_eval_sparsity_variance_batches': 200, 'dataset': 'Skylion007/openwebtext', 'context_size': 128, 'compute_kl': True, 'compute_ce_loss': True, 'compute_l2_norms': True, 'compute_sparsity_metrics': True, 'compute_variance_metrics': True, 'compute_featurewise_density_statistics': True, 'compute_featurewise_weight_based_metrics': True, 'exclude_special_tokens_from_reconstruction': True, 'verbose': False}, 'sae_class': 'standard', 'd_sae': '32k', 'train_tokens': 1e-06}, 'standard_l1-2.0_newinit-True_custom_sae': {'kl_div_score': -1.0, 'kl_div_with_ablation': -1.0, 'kl_div_with_sae': -1.0, 'ce_loss_score': -48.009215442285374, 'ce_loss_with_ablation': 3.9228384494781494, 'ce_loss_with_sae': 18.677471160888672, 'ce_loss_without_sae': 3.615509271621704, 'explained_variance': -610228160.0, 'explained_variance_legacy': -721952768.0, 'mse': 33500458.0, 'cossim': 0.7523248791694641, 'l2_norm_in': 14.381717681884766, 'l2_norm_out': 338101.09375, 'l2_ratio': 23023.33984375, 'relative_reconstruction_bias': 30309.853515625, 'l0': 90.21664428710938, 'l1': 10100.451171875, 'total_tokens_eval_reconstruction': 819200, 'total_tokens_eval_sparsity_variance': 819200, 'freq_over_1_percent': 0.0538814477622509, 'freq_over_10_percent': 0.004185267724096775, 'normalized_freq_over_1_percent': 0.7081785202026367, 'normalized_freq_over_10_percent': 0.2861182987689972, 'average_max_encoder_cosine_sim': 0.48607322573661804, 'average_max_decoder_cosine_sim': 0.5967332124710083, 'frac_alive': 0.889384925365448, 'eval_config': {'model_name': 'pythia-160m', 'llm_dtype': 'float32', 'batch_size_prompts': 32, 'n_eval_reconstruction_batches': 200, 'n_eval_sparsity_variance_batches': 200, 'dataset': 'Skylion007/openwebtext', 'context_size': 128, 'compute_kl': True, 'compute_ce_loss': True, 'compute_l2_norms': True, 'compute_sparsity_metrics': True, 'compute_variance_metrics': True, 'compute_featurewise_density_statistics': True, 'compute_featurewise_weight_based_metrics': True, 'exclude_special_tokens_from_reconstruction': True, 'verbose': False}, 'sae_class': 'standard', 'd_sae': '32k', 'train_tokens': 1e-06}}\n"
     ]
    },
    {
     "ename": "KeyError",
     "evalue": "'5.1-grid_l1-1_newinit-False_seed-1_gated_pythia-160m_8_custom_sae'",
     "output_type": "error",
     "traceback": [
      "\u001b[0;31m---------------------------------------------------------------------------\u001b[0m",
      "\u001b[0;31mKeyError\u001b[0m                                  Traceback (most recent call last)",
      "Cell \u001b[0;32mIn[18], line 7\u001b[0m\n\u001b[1;32m      5\u001b[0m \u001b[38;5;28mprint\u001b[39m(core_results_dict)\n\u001b[1;32m      6\u001b[0m \u001b[38;5;28;01mfor\u001b[39;00m sae \u001b[38;5;129;01min\u001b[39;00m eval_results_dict:\n\u001b[0;32m----> 7\u001b[0m     eval_results_dict[sae]\u001b[38;5;241m.\u001b[39mupdate(\u001b[43mcore_results_dict\u001b[49m\u001b[43m[\u001b[49m\u001b[43msae\u001b[49m\u001b[43m]\u001b[49m)\n\u001b[1;32m     10\u001b[0m \u001b[38;5;28mprint\u001b[39m(eval_results_dict\u001b[38;5;241m.\u001b[39mkeys())\n",
      "\u001b[0;31mKeyError\u001b[0m: '5.1-grid_l1-1_newinit-False_seed-1_gated_pythia-160m_8_custom_sae'"
     ]
    }
   ],
   "source": [
    "eval_results_dict = graphing_utils.get_eval_results(eval_filenames)\n",
    "core_results_dict = graphing_utils.get_eval_results(core_filenames)\n",
    "\n",
    "print(eval_results_dict)\n",
    "print(core_results_dict)\n",
    "for sae in eval_results_dict:\n",
    "    eval_results_dict[sae].update(core_results_dict[sae])\n",
    "\n",
    "\n",
    "print(eval_results_dict.keys())"
   ]
  },
  {
   "cell_type": "code",
   "execution_count": 19,
   "metadata": {},
   "outputs": [
    {
     "name": "stdout",
     "output_type": "stream",
     "text": [
      "dict_keys(['eval_type_id', 'eval_config', 'eval_id', 'datetime_epoch_millis', 'eval_result_metrics', 'eval_result_details', 'sae_bench_commit_hash', 'sae_lens_id', 'sae_lens_release_id', 'sae_lens_version', 'sae_cfg_dict', 'eval_result_unstructured'])\n",
      "Baseline SAE top 1 accuracy was: 0.6924\n",
      "Custom SAE top 1 accuracy was: 0.7070000000000001\n",
      "LLM residual stream top 1 accuracy was: 0.6364\n"
     ]
    }
   ],
   "source": [
    "baseline_filepath = eval_filenames[0]\n",
    "\n",
    "with open(baseline_filepath) as f:\n",
    "    baseline_sae_eval_results = json.load(f)\n",
    "\n",
    "custom_filepath = eval_filenames[1]\n",
    "\n",
    "with open(custom_filepath) as f:\n",
    "    custom_sae_eval_results = json.load(f)\n",
    "\n",
    "k = 1\n",
    "\n",
    "print(baseline_sae_eval_results.keys())\n",
    "\n",
    "print(\n",
    "    f\"Baseline SAE top {k} accuracy was:\",\n",
    "    baseline_sae_eval_results[\"eval_result_metrics\"][\"sae\"][\n",
    "        f\"sae_top_{k}_test_accuracy\"\n",
    "    ],\n",
    ")\n",
    "print(\n",
    "    f\"Custom SAE top {k} accuracy was:\",\n",
    "    custom_sae_eval_results[\"eval_result_metrics\"][\"sae\"][f\"sae_top_{k}_test_accuracy\"],\n",
    ")\n",
    "print(\n",
    "    f\"LLM residual stream top {k} accuracy was:\",\n",
    "    baseline_sae_eval_results[\"eval_result_metrics\"][\"llm\"][\n",
    "        f\"llm_top_{k}_test_accuracy\"\n",
    "    ],\n",
    ")"
   ]
  },
  {
   "cell_type": "markdown",
   "metadata": {},
   "source": [
    "We can also plot the metrics, plotting L0 vs Custom Metric or L0 vs Loss Recovered vs Custom metric. We can have different shapes for the SAE type or dictionary size.\n"
   ]
  },
  {
   "cell_type": "code",
   "execution_count": 20,
   "metadata": {},
   "outputs": [
    {
     "ename": "KeyError",
     "evalue": "'5.1-grid_l1-1_newinit-False_seed-1_gated_pythia-160m_8_custom_sae'",
     "output_type": "error",
     "traceback": [
      "\u001b[0;31m---------------------------------------------------------------------------\u001b[0m",
      "\u001b[0;31mKeyError\u001b[0m                                  Traceback (most recent call last)",
      "Cell \u001b[0;32mIn[20], line 3\u001b[0m\n\u001b[1;32m      1\u001b[0m image_base_name \u001b[38;5;241m=\u001b[39m os\u001b[38;5;241m.\u001b[39mpath\u001b[38;5;241m.\u001b[39mjoin(image_path, \u001b[38;5;124m\"\u001b[39m\u001b[38;5;124msparse_probing\u001b[39m\u001b[38;5;124m\"\u001b[39m)\n\u001b[0;32m----> 3\u001b[0m \u001b[43mgraphing_utils\u001b[49m\u001b[38;5;241;43m.\u001b[39;49m\u001b[43mplot_results\u001b[49m\u001b[43m(\u001b[49m\n\u001b[1;32m      4\u001b[0m \u001b[43m    \u001b[49m\u001b[43meval_filenames\u001b[49m\u001b[43m,\u001b[49m\n\u001b[1;32m      5\u001b[0m \u001b[43m    \u001b[49m\u001b[43mcore_filenames\u001b[49m\u001b[43m,\u001b[49m\n\u001b[1;32m      6\u001b[0m \u001b[43m    \u001b[49m\u001b[43meval_type\u001b[49m\u001b[43m,\u001b[49m\n\u001b[1;32m      7\u001b[0m \u001b[43m    \u001b[49m\u001b[43mimage_base_name\u001b[49m\u001b[43m,\u001b[49m\n\u001b[1;32m      8\u001b[0m \u001b[43m    \u001b[49m\u001b[43mk\u001b[49m\u001b[43m,\u001b[49m\n\u001b[1;32m      9\u001b[0m \u001b[43m    \u001b[49m\u001b[43mtrainer_markers\u001b[49m\u001b[38;5;241;43m=\u001b[39;49m\u001b[43mtrainer_markers\u001b[49m\u001b[43m,\u001b[49m\n\u001b[1;32m     10\u001b[0m \u001b[43m    \u001b[49m\u001b[43mtrainer_colors\u001b[49m\u001b[38;5;241;43m=\u001b[39;49m\u001b[43mtrainer_colors\u001b[49m\u001b[43m,\u001b[49m\n\u001b[1;32m     11\u001b[0m \u001b[43m)\u001b[49m\n",
      "File \u001b[0;32m~/phd/sae/SAEBench/sae_bench/sae_bench_utils/graphing_utils.py:161\u001b[0m, in \u001b[0;36mplot_results\u001b[0;34m(eval_filenames, core_filenames, eval_type, image_base_name, k, trainer_markers, trainer_colors, title_prefix, return_fig, baseline_sae_path, baseline_label)\u001b[0m\n\u001b[1;32m    158\u001b[0m core_results \u001b[38;5;241m=\u001b[39m get_core_results(core_filenames)\n\u001b[1;32m    160\u001b[0m \u001b[38;5;28;01mfor\u001b[39;00m sae \u001b[38;5;129;01min\u001b[39;00m eval_results:\n\u001b[0;32m--> 161\u001b[0m     eval_results[sae]\u001b[38;5;241m.\u001b[39mupdate(\u001b[43mcore_results\u001b[49m\u001b[43m[\u001b[49m\u001b[43msae\u001b[49m\u001b[43m]\u001b[49m)\n\u001b[1;32m    163\u001b[0m custom_metric, custom_metric_name \u001b[38;5;241m=\u001b[39m get_custom_metric_key_and_name(eval_type, k)\n\u001b[1;32m    165\u001b[0m \u001b[38;5;28;01mif\u001b[39;00m baseline_sae_path:\n",
      "\u001b[0;31mKeyError\u001b[0m: '5.1-grid_l1-1_newinit-False_seed-1_gated_pythia-160m_8_custom_sae'"
     ]
    }
   ],
   "source": [
    "image_base_name = os.path.join(image_path, \"sparse_probing\")\n",
    "\n",
    "graphing_utils.plot_results(\n",
    "    eval_filenames,\n",
    "    core_filenames,\n",
    "    eval_type,\n",
    "    image_base_name,\n",
    "    k,\n",
    "    trainer_markers=trainer_markers,\n",
    "    trainer_colors=trainer_colors,\n",
    ")"
   ]
  },
  {
   "cell_type": "markdown",
   "metadata": {},
   "source": [
    "Now we will run all of the evals, and create more plots. Be warned - this takes around an hour. Note that a significant amount of the costs are one time per layer - for example, with absorption, we have to train a bunch of probes on a given layer. So, if we have multiple SAEs per layer the cost should be much less than 30 minutes per SAE. In addition, to save disk space usage we currently are not saving activations for reuse by multiple SAEs.\n",
    "\n",
    "Additionally, we can make this faster by evaluating on a subset of the datasets. Sparse probing and Spurious Correlation Removal both have approximately 8 datasets each. We could lower the time by using fewer datasets at the cost of not having as strong of a signal.\n"
   ]
  },
  {
   "cell_type": "code",
   "execution_count": 1,
   "metadata": {},
   "outputs": [
    {
     "ename": "NameError",
     "evalue": "name 'run_all_evals_custom_saes' is not defined",
     "output_type": "error",
     "traceback": [
      "\u001b[0;31m---------------------------------------------------------------------------\u001b[0m",
      "\u001b[0;31mNameError\u001b[0m                                 Traceback (most recent call last)",
      "Cell \u001b[0;32mIn[1], line 1\u001b[0m\n\u001b[0;32m----> 1\u001b[0m _ \u001b[38;5;241m=\u001b[39m \u001b[43mrun_all_evals_custom_saes\u001b[49m\u001b[38;5;241m.\u001b[39mrun_evals(\n\u001b[1;32m      2\u001b[0m     model_name,\n\u001b[1;32m      3\u001b[0m     selected_saes,\n\u001b[1;32m      4\u001b[0m     llm_batch_size,\n\u001b[1;32m      5\u001b[0m     str_dtype,\n\u001b[1;32m      6\u001b[0m     device,\n\u001b[1;32m      7\u001b[0m     eval_types,\n\u001b[1;32m      8\u001b[0m     api_key\u001b[38;5;241m=\u001b[39m\u001b[38;5;28;01mNone\u001b[39;00m,\n\u001b[1;32m      9\u001b[0m     force_rerun\u001b[38;5;241m=\u001b[39m\u001b[38;5;28;01mFalse\u001b[39;00m,\n\u001b[1;32m     10\u001b[0m     save_activations\u001b[38;5;241m=\u001b[39msave_activations,\n\u001b[1;32m     11\u001b[0m )\n",
      "\u001b[0;31mNameError\u001b[0m: name 'run_all_evals_custom_saes' is not defined"
     ]
    }
   ],
   "source": [
    "_ = run_all_evals_custom_saes.run_evals(\n",
    "    model_name,\n",
    "    selected_saes,\n",
    "    llm_batch_size,\n",
    "    str_dtype,\n",
    "    device,\n",
    "    eval_types,\n",
    "    api_key=None,\n",
    "    force_rerun=False,\n",
    "    save_activations=save_activations,\n",
    ")"
   ]
  },
  {
   "cell_type": "code",
   "execution_count": 23,
   "metadata": {},
   "outputs": [
    {
     "data": {
      "image/png": "[encoded data removed]",
      "text/plain": [
       "<Figure size 1000x600 with 1 Axes>"
      ]
     },
     "metadata": {},
     "output_type": "display_data"
    },
    {
     "ename": "ValueError",
     "evalue": "Please add the correct key for the custom metric",
     "output_type": "error",
     "traceback": [
      "\u001b[0;31m---------------------------------------------------------------------------\u001b[0m",
      "\u001b[0;31mValueError\u001b[0m                                Traceback (most recent call last)",
      "Cell \u001b[0;32mIn[23], line 9\u001b[0m\n\u001b[1;32m      5\u001b[0m     eval_folders\u001b[38;5;241m.\u001b[39mappend(\u001b[38;5;124mf\u001b[39m\u001b[38;5;124m\"\u001b[39m\u001b[38;5;132;01m{\u001b[39;00mresults_folder\u001b[38;5;132;01m}\u001b[39;00m\u001b[38;5;124m/\u001b[39m\u001b[38;5;132;01m{\u001b[39;00meval_type\u001b[38;5;132;01m}\u001b[39;00m\u001b[38;5;124m\"\u001b[39m)\n\u001b[1;32m      7\u001b[0m eval_filenames \u001b[38;5;241m=\u001b[39m graphing_utils\u001b[38;5;241m.\u001b[39mfind_eval_results_files(eval_folders)\n\u001b[0;32m----> 9\u001b[0m \u001b[43mgraphing_utils\u001b[49m\u001b[38;5;241;43m.\u001b[39;49m\u001b[43mplot_results\u001b[49m\u001b[43m(\u001b[49m\n\u001b[1;32m     10\u001b[0m \u001b[43m    \u001b[49m\u001b[43meval_filenames\u001b[49m\u001b[43m,\u001b[49m\n\u001b[1;32m     11\u001b[0m \u001b[43m    \u001b[49m\u001b[43mcore_filenames\u001b[49m\u001b[43m,\u001b[49m\n\u001b[1;32m     12\u001b[0m \u001b[43m    \u001b[49m\u001b[43meval_type\u001b[49m\u001b[43m,\u001b[49m\n\u001b[1;32m     13\u001b[0m \u001b[43m    \u001b[49m\u001b[43mimage_base_name\u001b[49m\u001b[43m,\u001b[49m\n\u001b[1;32m     14\u001b[0m \u001b[43m    \u001b[49m\u001b[43mk\u001b[49m\u001b[38;5;241;43m=\u001b[39;49m\u001b[38;5;241;43m10\u001b[39;49m\u001b[43m,\u001b[49m\n\u001b[1;32m     15\u001b[0m \u001b[43m    \u001b[49m\u001b[43mtrainer_markers\u001b[49m\u001b[38;5;241;43m=\u001b[39;49m\u001b[43mtrainer_markers\u001b[49m\u001b[43m,\u001b[49m\n\u001b[1;32m     16\u001b[0m \u001b[43m    \u001b[49m\u001b[43mtrainer_colors\u001b[49m\u001b[38;5;241;43m=\u001b[39;49m\u001b[43mtrainer_colors\u001b[49m\u001b[43m,\u001b[49m\n\u001b[1;32m     17\u001b[0m \u001b[43m\u001b[49m\u001b[43m)\u001b[49m\n",
      "File \u001b[0;32m~/phd/sae/SAEBench/sae_bench/sae_bench_utils/graphing_utils.py:163\u001b[0m, in \u001b[0;36mplot_results\u001b[0;34m(eval_filenames, core_filenames, eval_type, image_base_name, k, trainer_markers, trainer_colors, title_prefix, return_fig, baseline_sae_path, baseline_label)\u001b[0m\n\u001b[1;32m    160\u001b[0m \u001b[38;5;28;01mfor\u001b[39;00m sae \u001b[38;5;129;01min\u001b[39;00m eval_results:\n\u001b[1;32m    161\u001b[0m     eval_results[sae]\u001b[38;5;241m.\u001b[39mupdate(core_results[sae])\n\u001b[0;32m--> 163\u001b[0m custom_metric, custom_metric_name \u001b[38;5;241m=\u001b[39m \u001b[43mget_custom_metric_key_and_name\u001b[49m\u001b[43m(\u001b[49m\u001b[43meval_type\u001b[49m\u001b[43m,\u001b[49m\u001b[43m \u001b[49m\u001b[43mk\u001b[49m\u001b[43m)\u001b[49m\n\u001b[1;32m    165\u001b[0m \u001b[38;5;28;01mif\u001b[39;00m baseline_sae_path:\n\u001b[1;32m    166\u001b[0m     baseline_results \u001b[38;5;241m=\u001b[39m get_eval_results([baseline_sae_path])\n",
      "File \u001b[0;32m~/phd/sae/SAEBench/sae_bench/sae_bench_utils/graphing_utils.py:321\u001b[0m, in \u001b[0;36mget_custom_metric_key_and_name\u001b[0;34m(eval_path, k)\u001b[0m\n\u001b[1;32m    319\u001b[0m     custom_metric_name \u001b[38;5;241m=\u001b[39m \u001b[38;5;124m\"\u001b[39m\u001b[38;5;124mLoss Recovered\u001b[39m\u001b[38;5;124m\"\u001b[39m\n\u001b[1;32m    320\u001b[0m \u001b[38;5;28;01melse\u001b[39;00m:\n\u001b[0;32m--> 321\u001b[0m     \u001b[38;5;28;01mraise\u001b[39;00m \u001b[38;5;167;01mValueError\u001b[39;00m(\u001b[38;5;124m\"\u001b[39m\u001b[38;5;124mPlease add the correct key for the custom metric\u001b[39m\u001b[38;5;124m\"\u001b[39m)\n\u001b[1;32m    323\u001b[0m \u001b[38;5;28;01mreturn\u001b[39;00m custom_metric, custom_metric_name\n",
      "\u001b[0;31mValueError\u001b[0m: Please add the correct key for the custom metric"
     ]
    }
   ],
   "source": [
    "for eval_type in eval_types:\n",
    "    eval_folders = []\n",
    "\n",
    "    for results_folder in results_folders:\n",
    "        eval_folders.append(f\"{results_folder}/{eval_type}\")\n",
    "\n",
    "    eval_filenames = graphing_utils.find_eval_results_files(eval_folders)\n",
    "\n",
    "    graphing_utils.plot_results(\n",
    "        eval_filenames,\n",
    "        core_filenames,\n",
    "        eval_type,\n",
    "        image_base_name,\n",
    "        k=10,\n",
    "        trainer_markers=trainer_markers,\n",
    "        trainer_colors=trainer_colors,\n",
    "    )"
   ]
  },
  {
   "cell_type": "code",
   "execution_count": null,
   "metadata": {},
   "outputs": [],
   "source": []
  }
 ],
 "metadata": {
  "kernelspec": {
   "display_name": "sae",
   "language": "python",
   "name": "python3"
  },
  "language_info": {
   "codemirror_mode": {
    "name": "ipython",
    "version": 3
   },
   "file_extension": ".py",
   "mimetype": "text/x-python",
   "name": "python",
   "nbconvert_exporter": "python",
   "pygments_lexer": "ipython3",
   "version": "3.10.16"
  }
 },
 "nbformat": 4,
 "nbformat_minor": 2
}
